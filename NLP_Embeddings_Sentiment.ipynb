{
  "cells": [
    {
      "cell_type": "markdown",
      "metadata": {
        "id": "wqvz1jVgbwIN"
      },
      "source": [
        "## Import TensorFlow and related functions"
      ]
    },
    {
      "cell_type": "code",
      "execution_count": 1,
      "metadata": {
        "id": "XIG52aKPdpux"
      },
      "outputs": [],
      "source": [
        "import tensorflow as tf\n",
        "\n",
        "from tensorflow.keras.preprocessing.text import Tokenizer\n",
        "from tensorflow.keras.preprocessing.sequence import pad_sequences"
      ]
    },
    {
      "cell_type": "markdown",
      "metadata": {
        "id": "pazU5OmxehIA"
      },
      "source": [
        "## Get the dataset\n",
        "\n",
        "We're going to use a dataset containing Amazon and Yelp reviews, with their related sentiment (1 for positive, 0 for negative). This dataset was originally extracted from [here](https://www.kaggle.com/marklvl/sentiment-labelled-sentences-data-set)."
      ]
    },
    {
      "cell_type": "code",
      "execution_count": 2,
      "metadata": {
        "id": "qpwQT2E9ez5B",
        "colab": {
          "base_uri": "https://localhost:8080/"
        },
        "outputId": "0ab20955-a8a7-4f7b-fc87-95a690ecb8e8"
      },
      "outputs": [
        {
          "output_type": "stream",
          "name": "stdout",
          "text": [
            "--2023-05-19 05:44:10--  https://drive.google.com/uc?id=13ySLC_ue6Umt9RJYSeM2t-V0kCv-4C-P\n",
            "Resolving drive.google.com (drive.google.com)... 74.125.130.100, 74.125.130.139, 74.125.130.102, ...\n",
            "Connecting to drive.google.com (drive.google.com)|74.125.130.100|:443... connected.\n",
            "HTTP request sent, awaiting response... 303 See Other\n",
            "Location: https://doc-08-ak-docs.googleusercontent.com/docs/securesc/ha0ro937gcuc7l7deffksulhg5h7mbp1/67bvl075evvhqdc39ngofsj72nlacelj/1684475025000/11118900490791463723/*/13ySLC_ue6Umt9RJYSeM2t-V0kCv-4C-P?uuid=469866d9-4358-451a-952d-8d7e8657513f [following]\n",
            "Warning: wildcards not supported in HTTP.\n",
            "--2023-05-19 05:44:11--  https://doc-08-ak-docs.googleusercontent.com/docs/securesc/ha0ro937gcuc7l7deffksulhg5h7mbp1/67bvl075evvhqdc39ngofsj72nlacelj/1684475025000/11118900490791463723/*/13ySLC_ue6Umt9RJYSeM2t-V0kCv-4C-P?uuid=469866d9-4358-451a-952d-8d7e8657513f\n",
            "Resolving doc-08-ak-docs.googleusercontent.com (doc-08-ak-docs.googleusercontent.com)... 74.125.130.132, 2404:6800:4003:c01::84\n",
            "Connecting to doc-08-ak-docs.googleusercontent.com (doc-08-ak-docs.googleusercontent.com)|74.125.130.132|:443... connected.\n",
            "HTTP request sent, awaiting response... 200 OK\n",
            "Length: 127831 (125K) [text/csv]\n",
            "Saving to: ‘/tmp/sentiment.csv’\n",
            "\n",
            "/tmp/sentiment.csv  100%[===================>] 124.83K  --.-KB/s    in 0.001s  \n",
            "\n",
            "2023-05-19 05:44:11 (162 MB/s) - ‘/tmp/sentiment.csv’ saved [127831/127831]\n",
            "\n"
          ]
        }
      ],
      "source": [
        "!wget --no-check-certificate \\\n",
        "    -O /tmp/sentiment.csv https://drive.google.com/uc?id=13ySLC_ue6Umt9RJYSeM2t-V0kCv-4C-P"
      ]
    },
    {
      "cell_type": "code",
      "execution_count": 3,
      "metadata": {
        "id": "6Zvp9NScfMnw"
      },
      "outputs": [],
      "source": [
        "import numpy as np\n",
        "import pandas as pd\n",
        "\n",
        "dataset = pd.read_csv('/tmp/sentiment.csv')\n",
        "\n",
        "sentences = dataset['text'].tolist()\n",
        "labels = dataset['sentiment'].tolist()\n",
        "\n",
        "# Separate out the sentences and labels into training and test sets\n",
        "training_size = int(len(sentences) * 0.8)\n",
        "\n",
        "training_sentences = sentences[0:training_size]\n",
        "testing_sentences = sentences[training_size:]\n",
        "training_labels = labels[0:training_size]\n",
        "testing_labels = labels[training_size:]\n",
        "\n",
        "# Make labels into numpy arrays for use with the network later\n",
        "training_labels_final = np.array(training_labels)\n",
        "testing_labels_final = np.array(testing_labels)"
      ]
    },
    {
      "cell_type": "code",
      "source": [
        "dataset.head(),dataset.shape"
      ],
      "metadata": {
        "colab": {
          "base_uri": "https://localhost:8080/"
        },
        "id": "Pv7Qq0CninwH",
        "outputId": "7cb83373-7f64-42a8-9bff-105118b9ee9c"
      },
      "execution_count": 10,
      "outputs": [
        {
          "output_type": "execute_result",
          "data": {
            "text/plain": [
              "(   Unnamed: 0                                               text  sentiment\n",
              " 0           0  So there is no way for me to plug it in here i...          0\n",
              " 1           1                         Good case Excellent value.          1\n",
              " 2           2                             Great for the jawbone.          1\n",
              " 3           3  Tied to charger for conversations lasting more...          0\n",
              " 4           4                                  The mic is great.          1,\n",
              " (1992, 3))"
            ]
          },
          "metadata": {},
          "execution_count": 10
        }
      ]
    },
    {
      "cell_type": "markdown",
      "metadata": {
        "id": "NHpvqaSigcST"
      },
      "source": [
        "## Tokenize the dataset\n",
        "\n",
        "Tokenize the dataset, including padding and OOV"
      ]
    },
    {
      "cell_type": "code",
      "execution_count": 14,
      "metadata": {
        "id": "78icewYRgfxh"
      },
      "outputs": [],
      "source": [
        "vocab_size = 500\n",
        "embedding_dim = 16\n",
        "max_length = 50\n",
        "trunc_type='post'\n",
        "padding_type='post'\n",
        "oov_tok = \"<OOV>\"\n",
        "\n",
        "\n",
        "from tensorflow.keras.preprocessing.text import Tokenizer\n",
        "from tensorflow.keras.preprocessing.sequence import pad_sequences\n",
        "\n",
        "tokenizer = Tokenizer(num_words = vocab_size, oov_token=oov_tok)\n",
        "tokenizer.fit_on_texts(training_sentences)\n",
        "word_index = tokenizer.word_index\n",
        "sequences = tokenizer.texts_to_sequences(training_sentences)\n",
        "padded = pad_sequences(sequences,maxlen=max_length, padding=padding_type, \n",
        "                       truncating=trunc_type)\n",
        "\n",
        "testing_sequences = tokenizer.texts_to_sequences(testing_sentences)\n",
        "testing_padded = pad_sequences(testing_sequences,maxlen=max_length, \n",
        "                               padding=padding_type, truncating=trunc_type)"
      ]
    },
    {
      "cell_type": "markdown",
      "metadata": {
        "id": "q4yIEk_8kszh"
      },
      "source": [
        "## Review a Sequence\n",
        "\n",
        "Let's quickly take a look at one of the padded sequences to ensure everything above worked appropriately."
      ]
    },
    {
      "cell_type": "code",
      "execution_count": 5,
      "metadata": {
        "id": "JTU3FmVGk100",
        "colab": {
          "base_uri": "https://localhost:8080/"
        },
        "outputId": "be578338-5e61-4ee4-d581-e97d6bf5aade"
      },
      "outputs": [
        {
          "output_type": "stream",
          "name": "stdout",
          "text": [
            "good case excellent value ? ? ? ? ? ? ? ? ? ? ? ? ? ? ? ? ? ? ? ? ? ? ? ? ? ? ? ? ? ? ? ? ? ? ? ? ? ? ? ? ? ? ? ? ? ? ? ? ? ? ? ? ? ? ? ? ? ? ? ? ? ? ? ? ? ? ? ? ? ? ? ? ? ? ? ? ? ? ? ? ? ? ? ? ? ? ? ? ? ? ? ? ? ? ? ?\n",
            "Good case Excellent value.\n"
          ]
        }
      ],
      "source": [
        "reverse_word_index = dict([(value, key) for (key, value) in word_index.items()])\n",
        "\n",
        "def decode_review(text):\n",
        "    return ' '.join([reverse_word_index.get(i, '?') for i in text])\n",
        "\n",
        "print(decode_review(padded[1]))\n",
        "print(training_sentences[1])"
      ]
    },
    {
      "cell_type": "markdown",
      "metadata": {
        "id": "RI91liJnlA92"
      },
      "source": [
        "## Train a Basic Sentiment Model with Embeddings"
      ]
    },
    {
      "cell_type": "code",
      "execution_count": 15,
      "metadata": {
        "id": "bBMgzp-_lMTp",
        "colab": {
          "base_uri": "https://localhost:8080/"
        },
        "outputId": "fcb98049-78ff-43f1-924a-6a5de3c576be"
      },
      "outputs": [
        {
          "output_type": "stream",
          "name": "stdout",
          "text": [
            "Model: \"sequential_1\"\n",
            "_________________________________________________________________\n",
            " Layer (type)                Output Shape              Param #   \n",
            "=================================================================\n",
            " embedding_1 (Embedding)     (None, 50, 16)            8000      \n",
            "                                                                 \n",
            " global_average_pooling1d (G  (None, 16)               0         \n",
            " lobalAveragePooling1D)                                          \n",
            "                                                                 \n",
            " dense_2 (Dense)             (None, 6)                 102       \n",
            "                                                                 \n",
            " dense_3 (Dense)             (None, 1)                 7         \n",
            "                                                                 \n",
            "=================================================================\n",
            "Total params: 8,109\n",
            "Trainable params: 8,109\n",
            "Non-trainable params: 0\n",
            "_________________________________________________________________\n"
          ]
        }
      ],
      "source": [
        "# Build a basic sentiment network\n",
        "# Note the embedding layer is first, \n",
        "# and the output is only 1 node as it is either 0 or 1 (negative or positive)\n",
        "model = tf.keras.Sequential([\n",
        "    tf.keras.layers.Embedding(vocab_size, embedding_dim, input_length=max_length),\n",
        "    tf.keras.layers.GlobalAveragePooling1D(),\n",
        "    tf.keras.layers.Dense(6, activation='relu'),\n",
        "    tf.keras.layers.Dense(1, activation='sigmoid')\n",
        "])\n",
        "model.compile(loss='binary_crossentropy',optimizer='adam',metrics=['accuracy'])\n",
        "model.summary()"
      ]
    },
    {
      "cell_type": "code",
      "execution_count": 17,
      "metadata": {
        "id": "Pfl1W-zVldpn",
        "colab": {
          "base_uri": "https://localhost:8080/"
        },
        "outputId": "4665c00a-7235-4f67-95e7-a99e06dc505b"
      },
      "outputs": [
        {
          "output_type": "stream",
          "name": "stdout",
          "text": [
            "Epoch 1/30\n",
            "50/50 [==============================] - 1s 11ms/step - loss: 0.6085 - accuracy: 0.7571 - val_loss: 0.6252 - val_accuracy: 0.7368\n",
            "Epoch 2/30\n",
            "50/50 [==============================] - 0s 9ms/step - loss: 0.5865 - accuracy: 0.7740 - val_loss: 0.6287 - val_accuracy: 0.6040\n",
            "Epoch 3/30\n",
            "50/50 [==============================] - 1s 20ms/step - loss: 0.5630 - accuracy: 0.7828 - val_loss: 0.5950 - val_accuracy: 0.7544\n",
            "Epoch 4/30\n",
            "50/50 [==============================] - 1s 13ms/step - loss: 0.5399 - accuracy: 0.8016 - val_loss: 0.5780 - val_accuracy: 0.7669\n",
            "Epoch 5/30\n",
            "50/50 [==============================] - 0s 9ms/step - loss: 0.5160 - accuracy: 0.8242 - val_loss: 0.5726 - val_accuracy: 0.7193\n",
            "Epoch 6/30\n",
            "50/50 [==============================] - 0s 8ms/step - loss: 0.4924 - accuracy: 0.8311 - val_loss: 0.5566 - val_accuracy: 0.7444\n",
            "Epoch 7/30\n",
            "50/50 [==============================] - 0s 5ms/step - loss: 0.4682 - accuracy: 0.8330 - val_loss: 0.5327 - val_accuracy: 0.7845\n",
            "Epoch 8/30\n",
            "50/50 [==============================] - 0s 6ms/step - loss: 0.4434 - accuracy: 0.8418 - val_loss: 0.5261 - val_accuracy: 0.7569\n",
            "Epoch 9/30\n",
            "50/50 [==============================] - 0s 10ms/step - loss: 0.4213 - accuracy: 0.8493 - val_loss: 0.5209 - val_accuracy: 0.7469\n",
            "Epoch 10/30\n",
            "50/50 [==============================] - 0s 5ms/step - loss: 0.4007 - accuracy: 0.8550 - val_loss: 0.5006 - val_accuracy: 0.7945\n",
            "Epoch 11/30\n",
            "50/50 [==============================] - 0s 6ms/step - loss: 0.3854 - accuracy: 0.8581 - val_loss: 0.5154 - val_accuracy: 0.7393\n",
            "Epoch 12/30\n",
            "50/50 [==============================] - 0s 9ms/step - loss: 0.3688 - accuracy: 0.8638 - val_loss: 0.5002 - val_accuracy: 0.7519\n",
            "Epoch 13/30\n",
            "50/50 [==============================] - 0s 10ms/step - loss: 0.3555 - accuracy: 0.8638 - val_loss: 0.4944 - val_accuracy: 0.7619\n",
            "Epoch 14/30\n",
            "50/50 [==============================] - 0s 5ms/step - loss: 0.3422 - accuracy: 0.8770 - val_loss: 0.4979 - val_accuracy: 0.7519\n",
            "Epoch 15/30\n",
            "50/50 [==============================] - 0s 5ms/step - loss: 0.3311 - accuracy: 0.8713 - val_loss: 0.5029 - val_accuracy: 0.7393\n",
            "Epoch 16/30\n",
            "50/50 [==============================] - 0s 5ms/step - loss: 0.3216 - accuracy: 0.8820 - val_loss: 0.5055 - val_accuracy: 0.7368\n",
            "Epoch 17/30\n",
            "50/50 [==============================] - 1s 11ms/step - loss: 0.3104 - accuracy: 0.8814 - val_loss: 0.4917 - val_accuracy: 0.7669\n",
            "Epoch 18/30\n",
            "50/50 [==============================] - 1s 14ms/step - loss: 0.3015 - accuracy: 0.8832 - val_loss: 0.4892 - val_accuracy: 0.7694\n",
            "Epoch 19/30\n",
            "50/50 [==============================] - 0s 9ms/step - loss: 0.2950 - accuracy: 0.8826 - val_loss: 0.4788 - val_accuracy: 0.7769\n",
            "Epoch 20/30\n",
            "50/50 [==============================] - 1s 21ms/step - loss: 0.2869 - accuracy: 0.8895 - val_loss: 0.5055 - val_accuracy: 0.7343\n",
            "Epoch 21/30\n",
            "50/50 [==============================] - 0s 7ms/step - loss: 0.2802 - accuracy: 0.8901 - val_loss: 0.4964 - val_accuracy: 0.7519\n",
            "Epoch 22/30\n",
            "50/50 [==============================] - 0s 5ms/step - loss: 0.2757 - accuracy: 0.8908 - val_loss: 0.5019 - val_accuracy: 0.7419\n",
            "Epoch 23/30\n",
            "50/50 [==============================] - 0s 5ms/step - loss: 0.2671 - accuracy: 0.8901 - val_loss: 0.5009 - val_accuracy: 0.7494\n",
            "Epoch 24/30\n",
            "50/50 [==============================] - 0s 9ms/step - loss: 0.2601 - accuracy: 0.8927 - val_loss: 0.4966 - val_accuracy: 0.7569\n",
            "Epoch 25/30\n",
            "50/50 [==============================] - 0s 5ms/step - loss: 0.2557 - accuracy: 0.8952 - val_loss: 0.5039 - val_accuracy: 0.7444\n",
            "Epoch 26/30\n",
            "50/50 [==============================] - 0s 5ms/step - loss: 0.2507 - accuracy: 0.8970 - val_loss: 0.4966 - val_accuracy: 0.7619\n",
            "Epoch 27/30\n",
            "50/50 [==============================] - 0s 6ms/step - loss: 0.2452 - accuracy: 0.8996 - val_loss: 0.5076 - val_accuracy: 0.7494\n",
            "Epoch 28/30\n",
            "50/50 [==============================] - 0s 5ms/step - loss: 0.2425 - accuracy: 0.9040 - val_loss: 0.5253 - val_accuracy: 0.7318\n",
            "Epoch 29/30\n",
            "50/50 [==============================] - 0s 8ms/step - loss: 0.2371 - accuracy: 0.9065 - val_loss: 0.5273 - val_accuracy: 0.7368\n",
            "Epoch 30/30\n",
            "50/50 [==============================] - 1s 12ms/step - loss: 0.2325 - accuracy: 0.9077 - val_loss: 0.5250 - val_accuracy: 0.7444\n"
          ]
        },
        {
          "output_type": "execute_result",
          "data": {
            "text/plain": [
              "<keras.callbacks.History at 0x7f5c60359330>"
            ]
          },
          "metadata": {},
          "execution_count": 17
        }
      ],
      "source": [
        "num_epochs = 30\n",
        "model.fit(padded, training_labels_final, epochs=num_epochs, validation_data=(testing_padded, testing_labels_final))"
      ]
    },
    {
      "cell_type": "markdown",
      "metadata": {
        "id": "GjMZ4ZFQl_48"
      },
      "source": [
        "## Get files for visualizing the network\n",
        "\n",
        "The code below will download two files for visualizing how your network \"sees\" the sentiment related to each word. Head to http://projector.tensorflow.org/ and load these files, then click the \"Sphereize\" checkbox."
      ]
    },
    {
      "cell_type": "code",
      "execution_count": 18,
      "metadata": {
        "id": "S2lB46FirAVx",
        "colab": {
          "base_uri": "https://localhost:8080/"
        },
        "outputId": "e43e4792-1f53-4bea-db3a-60e5970d12b9"
      },
      "outputs": [
        {
          "output_type": "stream",
          "name": "stdout",
          "text": [
            "(500, 16)\n"
          ]
        }
      ],
      "source": [
        "# First get the weights of the embedding layer\n",
        "e = model.layers[0]\n",
        "weights = e.get_weights()[0]\n",
        "print(weights.shape) # shape: (vocab_size, embedding_dim)"
      ]
    },
    {
      "cell_type": "code",
      "execution_count": 19,
      "metadata": {
        "id": "Xcha0oGemHX2"
      },
      "outputs": [],
      "source": [
        "import io\n",
        "\n",
        "# Write out the embedding vectors and metadata\n",
        "out_v = io.open('vecs.tsv', 'w', encoding='utf-8')\n",
        "out_m = io.open('meta.tsv', 'w', encoding='utf-8')\n",
        "for word_num in range(1, vocab_size):\n",
        "  word = reverse_word_index[word_num]\n",
        "  embeddings = weights[word_num]\n",
        "  out_m.write(word + \"\\n\")\n",
        "  out_v.write('\\t'.join([str(x) for x in embeddings]) + \"\\n\")\n",
        "out_v.close()\n",
        "out_m.close()"
      ]
    },
    {
      "cell_type": "code",
      "execution_count": 20,
      "metadata": {
        "id": "g-Q6ALywmWVz",
        "colab": {
          "base_uri": "https://localhost:8080/",
          "height": 17
        },
        "outputId": "e5ece3ef-1e7c-4de4-9e93-0e5959b7f04d"
      },
      "outputs": [
        {
          "output_type": "display_data",
          "data": {
            "text/plain": [
              "<IPython.core.display.Javascript object>"
            ],
            "application/javascript": [
              "\n",
              "    async function download(id, filename, size) {\n",
              "      if (!google.colab.kernel.accessAllowed) {\n",
              "        return;\n",
              "      }\n",
              "      const div = document.createElement('div');\n",
              "      const label = document.createElement('label');\n",
              "      label.textContent = `Downloading \"${filename}\": `;\n",
              "      div.appendChild(label);\n",
              "      const progress = document.createElement('progress');\n",
              "      progress.max = size;\n",
              "      div.appendChild(progress);\n",
              "      document.body.appendChild(div);\n",
              "\n",
              "      const buffers = [];\n",
              "      let downloaded = 0;\n",
              "\n",
              "      const channel = await google.colab.kernel.comms.open(id);\n",
              "      // Send a message to notify the kernel that we're ready.\n",
              "      channel.send({})\n",
              "\n",
              "      for await (const message of channel.messages) {\n",
              "        // Send a message to notify the kernel that we're ready.\n",
              "        channel.send({})\n",
              "        if (message.buffers) {\n",
              "          for (const buffer of message.buffers) {\n",
              "            buffers.push(buffer);\n",
              "            downloaded += buffer.byteLength;\n",
              "            progress.value = downloaded;\n",
              "          }\n",
              "        }\n",
              "      }\n",
              "      const blob = new Blob(buffers, {type: 'application/binary'});\n",
              "      const a = document.createElement('a');\n",
              "      a.href = window.URL.createObjectURL(blob);\n",
              "      a.download = filename;\n",
              "      div.appendChild(a);\n",
              "      a.click();\n",
              "      div.remove();\n",
              "    }\n",
              "  "
            ]
          },
          "metadata": {}
        },
        {
          "output_type": "display_data",
          "data": {
            "text/plain": [
              "<IPython.core.display.Javascript object>"
            ],
            "application/javascript": [
              "download(\"download_620d1b56-3c00-4dab-ab55-6fb2ee03f80c\", \"vecs.tsv\", 90488)"
            ]
          },
          "metadata": {}
        },
        {
          "output_type": "display_data",
          "data": {
            "text/plain": [
              "<IPython.core.display.Javascript object>"
            ],
            "application/javascript": [
              "\n",
              "    async function download(id, filename, size) {\n",
              "      if (!google.colab.kernel.accessAllowed) {\n",
              "        return;\n",
              "      }\n",
              "      const div = document.createElement('div');\n",
              "      const label = document.createElement('label');\n",
              "      label.textContent = `Downloading \"${filename}\": `;\n",
              "      div.appendChild(label);\n",
              "      const progress = document.createElement('progress');\n",
              "      progress.max = size;\n",
              "      div.appendChild(progress);\n",
              "      document.body.appendChild(div);\n",
              "\n",
              "      const buffers = [];\n",
              "      let downloaded = 0;\n",
              "\n",
              "      const channel = await google.colab.kernel.comms.open(id);\n",
              "      // Send a message to notify the kernel that we're ready.\n",
              "      channel.send({})\n",
              "\n",
              "      for await (const message of channel.messages) {\n",
              "        // Send a message to notify the kernel that we're ready.\n",
              "        channel.send({})\n",
              "        if (message.buffers) {\n",
              "          for (const buffer of message.buffers) {\n",
              "            buffers.push(buffer);\n",
              "            downloaded += buffer.byteLength;\n",
              "            progress.value = downloaded;\n",
              "          }\n",
              "        }\n",
              "      }\n",
              "      const blob = new Blob(buffers, {type: 'application/binary'});\n",
              "      const a = document.createElement('a');\n",
              "      a.href = window.URL.createObjectURL(blob);\n",
              "      a.download = filename;\n",
              "      div.appendChild(a);\n",
              "      a.click();\n",
              "      div.remove();\n",
              "    }\n",
              "  "
            ]
          },
          "metadata": {}
        },
        {
          "output_type": "display_data",
          "data": {
            "text/plain": [
              "<IPython.core.display.Javascript object>"
            ],
            "application/javascript": [
              "download(\"download_2f7f7282-0ffc-40f7-aae1-f709e2a1bf39\", \"meta.tsv\", 3025)"
            ]
          },
          "metadata": {}
        }
      ],
      "source": [
        "# Download the files\n",
        "try:\n",
        "  from google.colab import files\n",
        "except ImportError:\n",
        "  pass\n",
        "else:\n",
        "  files.download('vecs.tsv')\n",
        "  files.download('meta.tsv')"
      ]
    },
    {
      "cell_type": "markdown",
      "metadata": {
        "id": "GNoxfY-i3Ir1"
      },
      "source": [
        "## Predicting Sentiment in New Reviews\n",
        "\n",
        "Now that you've trained and visualized your network, take a look below at how we can predict sentiment in new reviews the network has never seen before."
      ]
    },
    {
      "cell_type": "code",
      "execution_count": 13,
      "metadata": {
        "id": "QXtfw-OY3WoZ",
        "colab": {
          "base_uri": "https://localhost:8080/"
        },
        "outputId": "12d8f51a-ec3b-477d-ee17-0de2ba8a5a63"
      },
      "outputs": [
        {
          "output_type": "stream",
          "name": "stdout",
          "text": [
            "['I love this phone', 'I hate spaghetti', 'Everything was cold', 'Everything was hot exactly as I wanted', 'Everything was green', 'the host seated us immediately', 'they gave us free chocolate cake', 'not sure about the wilted flowers on the table', 'only works when I stand on tippy toes', 'does not work when I stand on my head']\n",
            "\n",
            "HOT OFF THE PRESS! HERE ARE SOME NEWLY MINTED, ABSOLUTELY GENUINE REVIEWS!\n",
            "\n",
            "1/1 [==============================] - 0s 74ms/step\n",
            "I love this phone\n",
            "[0.98867714]\n",
            "\n",
            "\n",
            "I hate spaghetti\n",
            "[0.07551818]\n",
            "\n",
            "\n",
            "Everything was cold\n",
            "[0.43724617]\n",
            "\n",
            "\n",
            "Everything was hot exactly as I wanted\n",
            "[0.6947863]\n",
            "\n",
            "\n",
            "Everything was green\n",
            "[0.5715129]\n",
            "\n",
            "\n",
            "the host seated us immediately\n",
            "[0.8860118]\n",
            "\n",
            "\n",
            "they gave us free chocolate cake\n",
            "[0.94472826]\n",
            "\n",
            "\n",
            "not sure about the wilted flowers on the table\n",
            "[0.03158025]\n",
            "\n",
            "\n",
            "only works when I stand on tippy toes\n",
            "[0.969661]\n",
            "\n",
            "\n",
            "does not work when I stand on my head\n",
            "[0.01271195]\n",
            "\n",
            "\n"
          ]
        }
      ],
      "source": [
        "# Use the model to predict a review   \n",
        "fake_reviews = ['I love this phone', 'I hate spaghetti', \n",
        "                'Everything was cold',\n",
        "                'Everything was hot exactly as I wanted', \n",
        "                'Everything was green', \n",
        "                'the host seated us immediately',\n",
        "                'they gave us free chocolate cake', \n",
        "                'not sure about the wilted flowers on the table',\n",
        "                'only works when I stand on tippy toes', \n",
        "                'does not work when I stand on my head']\n",
        "\n",
        "print(fake_reviews) \n",
        "\n",
        "# Create the sequences\n",
        "padding_type='post'\n",
        "sample_sequences = tokenizer.texts_to_sequences(fake_reviews)\n",
        "fakes_padded = pad_sequences(sample_sequences, padding=padding_type, maxlen=max_length)           \n",
        "\n",
        "print('\\nHOT OFF THE PRESS! HERE ARE SOME NEWLY MINTED, ABSOLUTELY GENUINE REVIEWS!\\n')              \n",
        "\n",
        "classes = model.predict(fakes_padded)\n",
        "\n",
        "# The closer the class is to 1, the more positive the review is deemed to be\n",
        "for x in range(len(fake_reviews)):\n",
        "  print(fake_reviews[x])\n",
        "  print(classes[x])\n",
        "  print('\\n')\n",
        "\n",
        "# Try adding reviews of your own\n",
        "# Add some negative words (such as \"not\") to the good reviews and see what happens\n",
        "# For example:\n",
        "# they gave us free chocolate cake and did not charge us"
      ]
    }
  ],
  "metadata": {
    "accelerator": "GPU",
    "colab": {
      "provenance": []
    },
    "kernelspec": {
      "display_name": "Python 3",
      "name": "python3"
    }
  },
  "nbformat": 4,
  "nbformat_minor": 0
}